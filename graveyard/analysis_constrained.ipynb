{
 "cells": [
  {
   "cell_type": "code",
   "execution_count": 8,
   "metadata": {},
   "outputs": [],
   "source": [
    "import numpy as np\n",
    "import matplotlib.pyplot as plt\n",
    "import pandas as pd"
   ]
  },
  {
   "cell_type": "code",
   "execution_count": null,
   "metadata": {},
   "outputs": [],
   "source": [
    "def calc_constrained_angles(ankle, knee, shoulder, hip_range, elbow_range):\n",
    "    \"\"\"\n",
    "    Given 3 input angles (ankle, knee, shoulder) and valid ranges for hip and elbow,\n",
    "    solve for constrained angles (hip and elbow) such that:\n",
    "        - torso is vertical\n",
    "        - forearm is horizontal\n",
    "\n",
    "    NOT CURRENTLY TAKING TORSO ANGLE AS INPUT, SO BACK INCLINATION MUST MATCH\n",
    "    \n",
    "    \n",
    "    \"\"\"\n",
    "    foot_angle = 180\n",
    "    \n",
    "    lowerleg_angle = ankle \n",
    "    \n",
    "    thigh_angle = 180 - (knee - lowerleg_angle)\n",
    "\n",
    "    torso_angle = 100 \n",
    "    \n",
    "    hip = torso_angle + (knee - ankle)\n",
    "    \n",
    "    upperarm_angle = 190 + torso_angle + shoulder\n",
    "    \n",
    "    elbow = torso_angle + shoulder\n",
    "    \n",
    "    forearm_angle = 0\n",
    "\n",
    "    if not (hip_range[0] <= hip <= hip_range[1]):\n",
    "        #print('Hip : ', hip)\n",
    "        return None\n",
    "    if not (elbow_range[0] <= elbow <= elbow_range[1]):\n",
    "        #print('Elbow : ', elbow)\n",
    "        return None\n",
    "\n",
    "    return [foot_angle, lowerleg_angle, thigh_angle, torso_angle, upperarm_angle, forearm_angle]\n",
    "\n",
    "def calc_joint_positions_editted(df, gender, percentile, angles):    \n",
    "    \n",
    "    # Takes angles relative to x axis as inputs\n",
    "    \n",
    "    foot_length = df['FootLength'][f'{gender}{percentile}']  \n",
    "    lower_leg = df['LowerLeg'][f'{gender}{percentile}']\n",
    "    thigh_length = df['ThighLength'][f'{gender}{percentile}']\n",
    "    torso_height = df['TorsoHeight'][f'{gender}{percentile}'] \n",
    "    upper_arm = df['UpperArm'][f'{gender}{percentile}'] \n",
    "    forearm = df['Forearm'][f'{gender}{percentile}']\n",
    "\n",
    "    dimensions = [foot_length, lower_leg, thigh_length, torso_height, upper_arm, forearm]\n",
    "\n",
    "    joints = [(0, 0)]  # starting point for the foot\n",
    "    \n",
    "    # Iterate through each body part to calculate the next joint position\n",
    "    for i in range(len(dimensions)):\n",
    "        # Extract the current joint position, length of the current body part, and angle\n",
    "        x_prev, y_prev = joints[-1]\n",
    "        length = dimensions[i]\n",
    "        angle = angles[i]\n",
    "        \n",
    "        # Calculate the new joint position using trigonometry\n",
    "        x_new = x_prev + length * np.cos(np.radians(angle))\n",
    "        y_new = y_prev + length * np.sin(np.radians(angle))\n",
    "        \n",
    "        # Add the new joint position to the list of joints\n",
    "        joints.append((x_new, y_new))\n",
    "\n",
    "    return joints\n",
    "\n",
    "def calculate_distances(joints):\n",
    "    foot_x, foot_y = joints[0]\n",
    "    hand_x, hand_y = joints[6]\n",
    "    torso_x, torso_y = joints[3]\n",
    "\n",
    "    # A: Horizontal distance between the free end of the hand and the joint connecting the thigh to the torso\n",
    "    distance_A = abs(hand_x - torso_x)\n",
    "    \n",
    "    # B: Vertical distance between the free end of the foot and the free end of the hand\n",
    "    distance_B = abs(hand_y - foot_y)\n",
    "\n",
    "    # C: Vertical distance between the free end of the foot and the joint connecting the thigh to the torso\n",
    "    distance_C = abs(torso_y - foot_y)\n",
    "    \n",
    "    # D: Horizontal distance between the free end of the foot and the joint connecting the thigh to the torso\n",
    "    distance_D = abs(torso_x - foot_x)\n",
    "\n",
    "    return distance_A, distance_B, distance_C, distance_D\n"
   ]
  },
  {
   "cell_type": "code",
   "execution_count": 10,
   "metadata": {},
   "outputs": [],
   "source": [
    "df = pd.read_csv('adultdata_data.csv')\n",
    "data = df.set_index('Dimension').transpose()"
   ]
  },
  {
   "cell_type": "code",
   "execution_count": 11,
   "metadata": {},
   "outputs": [
    {
     "name": "stdout",
     "output_type": "stream",
     "text": [
      "Valid combinations: 24573 / 52111\n"
     ]
    }
   ],
   "source": [
    "\n",
    "# Input gender, percentile and back inclination angle\n",
    "gender = 'Woman'\n",
    "percentile = '5'\n",
    "back_inclination = 95    \n",
    "\n",
    "# Define the ranges for angles a, b, and d\n",
    "ankle = np.arange(80,121,1)  \n",
    "knee = np.arange(80,121,1)\n",
    "shoulder = np.arange(0,31,1)  \n",
    "\n",
    "# # Create an empty 3D array to store the results (using lists of lists of lists)\n",
    "# A = np.full((len(range_1), len(range_2), len(range_3)), None)\n",
    "# B = np.full((len(range_1), len(range_2), len(range_3)), None)\n",
    "# C = np.full((len(range_1), len(range_2), len(range_3)), None)\n",
    "# D = np.full((len(range_1), len(range_2), len(range_3)), None)\n",
    "\n",
    "A = np.full((len(ankle), len(knee), len(shoulder)), np.nan, dtype=float)\n",
    "B = np.full_like(A, np.nan)\n",
    "C = np.full_like(A, np.nan)\n",
    "D = np.full_like(A, np.nan)\n",
    "angle_list = np.full((len(ankle), len(knee), len(shoulder)), np.nan, dtype=object)\n",
    "\n",
    "hip_range = (80, 120)      # Valid range for c\n",
    "elbow_range = (80, 120)   # Valid range for e\n",
    "\n",
    "for i, a in enumerate(ankle):  # ankle\n",
    "    for j, b in enumerate(knee):  # knee\n",
    "        for k, d in enumerate(shoulder):  # shoulder\n",
    "            # Try to solve for constrained angles\n",
    "            \n",
    "            angles_in = calc_constrained_angles(a, b, d, hip_range, elbow_range)\n",
    "\n",
    "            if angles_in is None:\n",
    "                # Invalid combo — fill with NaNs\n",
    "                A[i, j, k] = np.nan\n",
    "                B[i, j, k] = np.nan\n",
    "                C[i, j, k] = np.nan\n",
    "                D[i, j, k] = np.nan\n",
    "                angle_list[i, j, k] = np.nan\n",
    "            \n",
    "            else:\n",
    "                joints = calc_joint_positions_editted(data, gender, percentile, angles_in)\n",
    "                \n",
    "                if joints[6][1] < joints[2][1]:\n",
    "                    # Invalid combo — fill with NaNs\n",
    "                    A[i, j, k] = np.nan\n",
    "                    B[i, j, k] = np.nan\n",
    "                    C[i, j, k] = np.nan\n",
    "                    D[i, j, k] = np.nan\n",
    "                    angle_list[i, j, k] = np.nan\n",
    "                else:\n",
    "                    distance_A, distance_B, distance_C, distance_D = calculate_distances(joints)\n",
    "                \n",
    "                    # Store results\n",
    "                    A[i, j, k] = distance_A\n",
    "                    B[i, j, k] = distance_B\n",
    "                    C[i, j, k] = distance_C\n",
    "                    D[i, j, k] = distance_D\n",
    "                    angle_list[i, j, k] = angles_in\n",
    "                \n",
    "valid_count = np.sum(~np.isnan(A))\n",
    "print(f\"Valid combinations: {valid_count} / {A.size}\")\n"
   ]
  },
  {
   "cell_type": "code",
   "execution_count": 12,
   "metadata": {},
   "outputs": [
    {
     "name": "stdout",
     "output_type": "stream",
     "text": [
      "Minimum value of B: 291.76630757725195\n",
      "Index corresponding to the minimum value of B: (np.int64(40), np.int64(20), np.int64(18))\n"
     ]
    }
   ],
   "source": [
    "min_B = np.nanmin(B)\n",
    "print(f\"Minimum value of B: {min_B}\")\n",
    "\n",
    "index_min_B = np.unravel_index(np.nanargmin(B), B.shape)\n",
    "print(f\"Index corresponding to the minimum value of B: {index_min_B}\")"
   ]
  },
  {
   "cell_type": "code",
   "execution_count": 13,
   "metadata": {},
   "outputs": [
    {
     "data": {
      "text/plain": [
       "[180, np.int64(120), np.int64(200), 100, np.int64(308), 0]"
      ]
     },
     "execution_count": 13,
     "metadata": {},
     "output_type": "execute_result"
    }
   ],
   "source": [
    "angles_min_B = angle_list[index_min_B]\n",
    "angles_min_B"
   ]
  },
  {
   "cell_type": "code",
   "execution_count": 16,
   "metadata": {},
   "outputs": [
    {
     "data": {
      "image/png": "[encoded data removed]",
      "text/plain": [
       "<Figure size 640x480 with 1 Axes>"
      ]
     },
     "metadata": {},
     "output_type": "display_data"
    }
   ],
   "source": [
    "from tools import plot_skeleton \n",
    "\n",
    "joints_min_B = calc_joint_positions_editted(data, gender, percentile, angles_min_B)\n",
    "plot_skeleton(joints_min_B, dists = True, gender=gender, percentile=percentile, overlay=False)\n"
   ]
  }
 ],
 "metadata": {
  "kernelspec": {
   "display_name": "Python 3",
   "language": "python",
   "name": "python3"
  },
  "language_info": {
   "codemirror_mode": {
    "name": "ipython",
    "version": 3
   },
   "file_extension": ".py",
   "mimetype": "text/x-python",
   "name": "python",
   "nbconvert_exporter": "python",
   "pygments_lexer": "ipython3",
   "version": "3.13.1"
  }
 },
 "nbformat": 4,
 "nbformat_minor": 2
}
