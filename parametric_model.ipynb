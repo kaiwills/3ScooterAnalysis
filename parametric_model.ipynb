{
 "cells": [
  {
   "cell_type": "code",
   "execution_count": 1,
   "metadata": {},
   "outputs": [
    {
     "data": {
      "image/png": "[encoded data removed]",
      "text/plain": [
       "<Figure size 640x480 with 1 Axes>"
      ]
     },
     "metadata": {},
     "output_type": "display_data"
    },
    {
     "name": "stdout",
     "output_type": "stream",
     "text": [
      "A (Horizontal distance): 2.91 units\n",
      "B (Vertical distance): 2.52 units\n"
     ]
    }
   ],
   "source": [
    "import numpy as np\n",
    "import matplotlib.pyplot as plt\n",
    "\n",
    "def calculate_joint_positions(dimensions, angles):\n",
    "    # Initialize the list of joints with the first joint (origin of the foot) at the origin\n",
    "    joints = [(0, 0)]  # starting point for the foot\n",
    "    \n",
    "    # Iterate through each body part to calculate the next joint position\n",
    "    for i in range(len(dimensions)):\n",
    "        # Extract the current joint position, length of the current body part, and angle\n",
    "        x_prev, y_prev = joints[-1]\n",
    "        length = dimensions[i]\n",
    "        angle = angles[i]\n",
    "        \n",
    "        # Calculate the new joint position using trigonometry\n",
    "        x_new = x_prev + length * np.cos(np.radians(angle))\n",
    "        y_new = y_prev + length * np.sin(np.radians(angle))\n",
    "        \n",
    "        # Add the new joint position to the list of joints\n",
    "        joints.append((x_new, y_new))\n",
    "    \n",
    "    return joints\n",
    "\n",
    "def plot_skeleton(joints):\n",
    "    # Plot the skeleton using the joints\n",
    "    fig, ax = plt.subplots()\n",
    "    ax.set_aspect('equal', 'box')\n",
    "    \n",
    "    # Plot the body parts as lines between joints\n",
    "    for i in range(1, len(joints)):\n",
    "        x_values = [joints[i-1][0], joints[i][0]]\n",
    "        y_values = [joints[i-1][1], joints[i][1]]\n",
    "        ax.plot(x_values, y_values, color='blue')  # Plot lines between joints\n",
    "    \n",
    "    # Plot dots at each joint\n",
    "    joint_x, joint_y = zip(*joints)  # Unzip the x and y coordinates of the joints\n",
    "    ax.scatter(joint_x, joint_y, color='red')  # Plot the joints as dots\n",
    "    \n",
    "    # Adjust the plot limits dynamically to fit all joints\n",
    "    x_min = min(joint_x) - 1\n",
    "    x_max = max(joint_x) + 1\n",
    "    y_min = min(joint_y) - 1\n",
    "    y_max = max(joint_y) + 1\n",
    "    ax.set_xlim(x_min, x_max)\n",
    "    ax.set_ylim(y_min, y_max)\n",
    "    \n",
    "    plt.title(\"2D Human Skeleton (Seated Position)\")\n",
    "    plt.show()\n",
    "\n",
    "def calculate_distances(joints):\n",
    "    # A: Horizontal distance between the free end of the hand and the joint connecting the thigh to the torso\n",
    "    hand_x, hand_y = joints[-1]\n",
    "    torso_x, torso_y = joints[3]\n",
    "    distance_A = abs(hand_x - torso_x)\n",
    "    \n",
    "    # B: Vertical distance between the free end of the foot and the free end of the hand\n",
    "    foot_x, foot_y = joints[0]\n",
    "    distance_B = abs(hand_y - foot_y)\n",
    "    \n",
    "    return distance_A, distance_B\n",
    "\n",
    "# Example input values:\n",
    "# Lengths of the body parts\n",
    "dimensions = [1, 2, 3, 2, 2, 1, 0.5]  # foot, lower leg, thigh, torso, upper arm, forearm, hand\n",
    "# Angles between the body parts (in degrees)\n",
    "angles = [180, 45, 170, 90, -45, 0, 0]  # foot is now horizontal to the left (180 degrees), other angles are relative to previous body parts\n",
    "\n",
    "# Calculate joint positions\n",
    "joints = calculate_joint_positions(dimensions, angles)\n",
    "\n",
    "# Plot the skeleton\n",
    "plot_skeleton(joints)\n",
    "\n",
    "# Calculate the required distances\n",
    "distance_A, distance_B = calculate_distances(joints)\n",
    "\n",
    "# Output the distances\n",
    "print(f\"A (Horizontal distance): {distance_A:.2f} units\")\n",
    "print(f\"B (Vertical distance): {distance_B:.2f} units\")"
   ]
  },
  {
   "cell_type": "code",
   "execution_count": null,
   "metadata": {},
   "outputs": [],
   "source": []
  }
 ],
 "metadata": {
  "kernelspec": {
   "display_name": "Python 3",
   "language": "python",
   "name": "python3"
  },
  "language_info": {
   "codemirror_mode": {
    "name": "ipython",
    "version": 3
   },
   "file_extension": ".py",
   "mimetype": "text/x-python",
   "name": "python",
   "nbconvert_exporter": "python",
   "pygments_lexer": "ipython3",
   "version": "3.13.0"
  }
 },
 "nbformat": 4,
 "nbformat_minor": 2
}
